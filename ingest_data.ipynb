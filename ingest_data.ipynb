{
 "cells": [
  {
   "cell_type": "code",
   "execution_count": 59,
   "metadata": {},
   "outputs": [],
   "source": [
    "import boto3\n",
    "import time\n",
    "import os\n",
    "from botocore.exceptions import ClientError\n",
    "from datetime import datetime\n",
    "import pandas as pd"
   ]
  },
  {
   "cell_type": "code",
   "execution_count": 60,
   "metadata": {},
   "outputs": [],
   "source": [
    "def upload_file(file_name, bucket_name, object_name=None):\n",
    "    \"\"\" uploads a file to the indicated bucket_name\n",
    "\n",
    "    :param file_name: File to upload\n",
    "    :bucket_name: bucket to upload to\n",
    "    :object_name: Name for the s3 object (if none then same as file_name)\n",
    "    \"\"\"\n",
    "    if object_name is None:\n",
    "            object_name = os.path.basename(file_name)\n",
    "    \n",
    "    session = boto3.Session(profile_name='des-projects')\n",
    "    s3 = session.client('s3')\n",
    "\n",
    "    try:\n",
    "        response = s3.upload_file(file_name, bucket_name, object_name)\n",
    "    except ClientError as e:\n",
    "        logging.error(e)\n",
    "        return False\n",
    "    return True"
   ]
  },
  {
   "cell_type": "code",
   "execution_count": 61,
   "metadata": {},
   "outputs": [],
   "source": [
    "data_files = []\n",
    "\n",
    "data_dir = os.path.join(os.getcwd(),'data')\n",
    "for root, dirs, files in os.walk(data_dir):\n",
    "    for name in files:\n",
    "        data_files.append(os.path.join(root,name))"
   ]
  },
  {
   "cell_type": "code",
   "execution_count": 62,
   "metadata": {},
   "outputs": [
    {
     "data": {
      "text/plain": [
       "['/Users/darrenhum/pCloud Drive/Data Science/Learning - MAGES/hotel-reviews-sentiment-lda/data/ibis_bugis.csv',\n",
       " '/Users/darrenhum/pCloud Drive/Data Science/Learning - MAGES/hotel-reviews-sentiment-lda/data/ibis_budget_reviews.csv',\n",
       " '/Users/darrenhum/pCloud Drive/Data Science/Learning - MAGES/hotel-reviews-sentiment-lda/data/ibis_CQ.csv',\n",
       " '/Users/darrenhum/pCloud Drive/Data Science/Learning - MAGES/hotel-reviews-sentiment-lda/data/ibis_crystal.csv',\n",
       " '/Users/darrenhum/pCloud Drive/Data Science/Learning - MAGES/hotel-reviews-sentiment-lda/data/ibis_ruby.csv',\n",
       " '/Users/darrenhum/pCloud Drive/Data Science/Learning - MAGES/hotel-reviews-sentiment-lda/data/ibis_sapphire.csv',\n",
       " '/Users/darrenhum/pCloud Drive/Data Science/Learning - MAGES/hotel-reviews-sentiment-lda/data/ibis_selegie.csv']"
      ]
     },
     "execution_count": 62,
     "metadata": {},
     "output_type": "execute_result"
    }
   ],
   "source": [
    "data_files"
   ]
  },
  {
   "cell_type": "code",
   "execution_count": 64,
   "metadata": {},
   "outputs": [],
   "source": [
    "#uploading 1 file\n",
    "for f in data_files:   \n",
    "    upload_file(f, 'hotel-reviews-raw-data')"
   ]
  },
  {
   "cell_type": "code",
   "execution_count": 48,
   "metadata": {},
   "outputs": [],
   "source": [
    "df = pd.read_csv('ibis_bugis.csv')"
   ]
  },
  {
   "cell_type": "code",
   "execution_count": 49,
   "metadata": {},
   "outputs": [
    {
     "data": {
      "text/html": [
       "<div>\n",
       "<style scoped>\n",
       "    .dataframe tbody tr th:only-of-type {\n",
       "        vertical-align: middle;\n",
       "    }\n",
       "\n",
       "    .dataframe tbody tr th {\n",
       "        vertical-align: top;\n",
       "    }\n",
       "\n",
       "    .dataframe thead th {\n",
       "        text-align: right;\n",
       "    }\n",
       "</style>\n",
       "<table border=\"1\" class=\"dataframe\">\n",
       "  <thead>\n",
       "    <tr style=\"text-align: right;\">\n",
       "      <th></th>\n",
       "      <th>Hotel_Name</th>\n",
       "      <th>Date</th>\n",
       "      <th>Title</th>\n",
       "      <th>Review</th>\n",
       "      <th>Rating</th>\n",
       "    </tr>\n",
       "  </thead>\n",
       "  <tbody>\n",
       "    <tr>\n",
       "      <th>0</th>\n",
       "      <td>Ibis Budget Singapore Clarke Quay</td>\n",
       "      <td>April 2022</td>\n",
       "      <td>A comfortable stay</td>\n",
       "      <td>The Ibis Budget in Clarke Quay is the perfect ...</td>\n",
       "      <td>5</td>\n",
       "    </tr>\n",
       "    <tr>\n",
       "      <th>1</th>\n",
       "      <td>Ibis Budget Singapore Clarke Quay</td>\n",
       "      <td>April 2022</td>\n",
       "      <td>Gd location and Comfortable rooms</td>\n",
       "      <td>Had a 3D 2N staycation in a superior twin bed ...</td>\n",
       "      <td>4</td>\n",
       "    </tr>\n",
       "    <tr>\n",
       "      <th>2</th>\n",
       "      <td>Ibis Budget Singapore Clarke Quay</td>\n",
       "      <td>April 2022</td>\n",
       "      <td>Ibis budget Clarke quay</td>\n",
       "      <td>Good place, good location, close to mrt statio...</td>\n",
       "      <td>4</td>\n",
       "    </tr>\n",
       "    <tr>\n",
       "      <th>3</th>\n",
       "      <td>Ibis Budget Singapore Clarke Quay</td>\n",
       "      <td>December 2021</td>\n",
       "      <td>Noise &amp; smoke pollution : long term stay</td>\n",
       "      <td>Firstly I begin by saying that the staff and h...</td>\n",
       "      <td>2</td>\n",
       "    </tr>\n",
       "    <tr>\n",
       "      <th>4</th>\n",
       "      <td>Ibis Budget Singapore Clarke Quay</td>\n",
       "      <td>December 2021</td>\n",
       "      <td>Nice little niche of a hotel in Clarke Quay</td>\n",
       "      <td>This was our family's third staycation for the...</td>\n",
       "      <td>4</td>\n",
       "    </tr>\n",
       "  </tbody>\n",
       "</table>\n",
       "</div>"
      ],
      "text/plain": [
       "                          Hotel_Name            Date  \\\n",
       "0  Ibis Budget Singapore Clarke Quay      April 2022   \n",
       "1  Ibis Budget Singapore Clarke Quay      April 2022   \n",
       "2  Ibis Budget Singapore Clarke Quay      April 2022   \n",
       "3  Ibis Budget Singapore Clarke Quay   December 2021   \n",
       "4  Ibis Budget Singapore Clarke Quay   December 2021   \n",
       "\n",
       "                                         Title  \\\n",
       "0                           A comfortable stay   \n",
       "1            Gd location and Comfortable rooms   \n",
       "2                      Ibis budget Clarke quay   \n",
       "3     Noise & smoke pollution : long term stay   \n",
       "4  Nice little niche of a hotel in Clarke Quay   \n",
       "\n",
       "                                              Review  Rating  \n",
       "0  The Ibis Budget in Clarke Quay is the perfect ...       5  \n",
       "1  Had a 3D 2N staycation in a superior twin bed ...       4  \n",
       "2  Good place, good location, close to mrt statio...       4  \n",
       "3  Firstly I begin by saying that the staff and h...       2  \n",
       "4  This was our family's third staycation for the...       4  "
      ]
     },
     "execution_count": 49,
     "metadata": {},
     "output_type": "execute_result"
    }
   ],
   "source": [
    "df.head()"
   ]
  },
  {
   "cell_type": "code",
   "execution_count": 52,
   "metadata": {},
   "outputs": [
    {
     "data": {
      "text/plain": [
       "'This is a basic hotel located in the city centre close to China town. Very easy to find and also a walking distance from fabulous Funan mall. Very convenient if you want to be centrally located but not splash out on accommodation. You save a lot of taxi money by just walking to places. The reception is very small. We noted a lot of bags at reception when we booked in and later learnt that if you check out early you can leave your bag and collect later. Our room was not ready when we arrived but the staff were happy for us to leave our bags to explore the city. We were hungry and we walked around to find somewhere to eat and Funan mall came in handy. The rooms are very small and can be difficult to manoeuvre if you have luggage. For a hotel this quality however they were'"
      ]
     },
     "execution_count": 52,
     "metadata": {},
     "output_type": "execute_result"
    }
   ],
   "source": [
    "df['Review'][37]"
   ]
  },
  {
   "cell_type": "code",
   "execution_count": null,
   "metadata": {},
   "outputs": [],
   "source": []
  }
 ],
 "metadata": {
  "interpreter": {
   "hash": "06ec8a203daed907d44680683fa2a9c4e7938b5804e1d99db52ad8f37677ef76"
  },
  "kernelspec": {
   "display_name": "Python 3.8.12 ('tensorflowtest')",
   "language": "python",
   "name": "python3"
  },
  "language_info": {
   "codemirror_mode": {
    "name": "ipython",
    "version": 3
   },
   "file_extension": ".py",
   "mimetype": "text/x-python",
   "name": "python",
   "nbconvert_exporter": "python",
   "pygments_lexer": "ipython3",
   "version": "3.8.12"
  },
  "orig_nbformat": 4
 },
 "nbformat": 4,
 "nbformat_minor": 2
}
