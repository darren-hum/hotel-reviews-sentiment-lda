{
 "cells": [
  {
   "cell_type": "code",
   "execution_count": 3,
   "metadata": {},
   "outputs": [],
   "source": [
    "import os\n",
    "import pandas as pd\n",
    "import numpy as np\n",
    "\n",
    "import re\n",
    "import string\n",
    "import nltk\n",
    "from nltk.corpus import stopwords\n",
    "from nltk.tokenize import word_tokenize\n",
    "from nltk.stem import WordNetLemmatizer\n",
    "from nltk.stem.porter import PorterStemmer\n",
    "\n",
    "#import spacy\n",
    "\n",
    "import gensim\n",
    "from gensim import corpora\n",
    "\n",
    "# import pyLDAvis\n",
    "# import pyLDAvis.gensim\n",
    "import matplotlib.pyplot as plt\n",
    "import seaborn as sns\n",
    "%matplotlib inline"
   ]
  },
  {
   "cell_type": "code",
   "execution_count": 4,
   "metadata": {},
   "outputs": [],
   "source": [
    "#nltk.download()"
   ]
  },
  {
   "cell_type": "markdown",
   "metadata": {},
   "source": [
    "#### Read in data"
   ]
  },
  {
   "cell_type": "code",
   "execution_count": 5,
   "metadata": {},
   "outputs": [],
   "source": [
    "df = pd.read_csv(os.path.join(os.getcwd(), 'data', 'ibis_reviews.csv'))"
   ]
  },
  {
   "cell_type": "code",
   "execution_count": 6,
   "metadata": {},
   "outputs": [
    {
     "data": {
      "text/html": [
       "<div>\n",
       "<style scoped>\n",
       "    .dataframe tbody tr th:only-of-type {\n",
       "        vertical-align: middle;\n",
       "    }\n",
       "\n",
       "    .dataframe tbody tr th {\n",
       "        vertical-align: top;\n",
       "    }\n",
       "\n",
       "    .dataframe thead th {\n",
       "        text-align: right;\n",
       "    }\n",
       "</style>\n",
       "<table border=\"1\" class=\"dataframe\">\n",
       "  <thead>\n",
       "    <tr style=\"text-align: right;\">\n",
       "      <th></th>\n",
       "      <th>Hotel_Name</th>\n",
       "      <th>Date</th>\n",
       "      <th>Title</th>\n",
       "      <th>Review</th>\n",
       "      <th>Rating</th>\n",
       "    </tr>\n",
       "  </thead>\n",
       "  <tbody>\n",
       "    <tr>\n",
       "      <th>0</th>\n",
       "      <td>ibis budget Singapore Pearl</td>\n",
       "      <td>April 2022</td>\n",
       "      <td>When they say budget they mean budget</td>\n",
       "      <td>When they say budget they really mean budget. ...</td>\n",
       "      <td>2</td>\n",
       "    </tr>\n",
       "    <tr>\n",
       "      <th>1</th>\n",
       "      <td>ibis budget Singapore Pearl</td>\n",
       "      <td>January 2021</td>\n",
       "      <td>Poor customer service</td>\n",
       "      <td>This hotel does not live up to expectation of ...</td>\n",
       "      <td>3</td>\n",
       "    </tr>\n",
       "    <tr>\n",
       "      <th>2</th>\n",
       "      <td>ibis budget Singapore Pearl</td>\n",
       "      <td>February 2020</td>\n",
       "      <td>It's okay</td>\n",
       "      <td>We stayed 4 nights. We got free room promotion...</td>\n",
       "      <td>3</td>\n",
       "    </tr>\n",
       "    <tr>\n",
       "      <th>3</th>\n",
       "      <td>ibis budget Singapore Pearl</td>\n",
       "      <td>February 2020</td>\n",
       "      <td>Average stay</td>\n",
       "      <td>Located in an area that looks a little more ru...</td>\n",
       "      <td>3</td>\n",
       "    </tr>\n",
       "    <tr>\n",
       "      <th>4</th>\n",
       "      <td>ibis budget Singapore Pearl</td>\n",
       "      <td>January 2020</td>\n",
       "      <td>Good budget Hotel</td>\n",
       "      <td>Ibis pearl is good budget hotel in geylang are...</td>\n",
       "      <td>3</td>\n",
       "    </tr>\n",
       "  </tbody>\n",
       "</table>\n",
       "</div>"
      ],
      "text/plain": [
       "                    Hotel_Name            Date  \\\n",
       "0  ibis budget Singapore Pearl      April 2022   \n",
       "1  ibis budget Singapore Pearl    January 2021   \n",
       "2  ibis budget Singapore Pearl   February 2020   \n",
       "3  ibis budget Singapore Pearl   February 2020   \n",
       "4  ibis budget Singapore Pearl    January 2020   \n",
       "\n",
       "                                   Title  \\\n",
       "0  When they say budget they mean budget   \n",
       "1                  Poor customer service   \n",
       "2                              It's okay   \n",
       "3                           Average stay   \n",
       "4                      Good budget Hotel   \n",
       "\n",
       "                                              Review  Rating  \n",
       "0  When they say budget they really mean budget. ...       2  \n",
       "1  This hotel does not live up to expectation of ...       3  \n",
       "2  We stayed 4 nights. We got free room promotion...       3  \n",
       "3  Located in an area that looks a little more ru...       3  \n",
       "4  Ibis pearl is good budget hotel in geylang are...       3  "
      ]
     },
     "execution_count": 6,
     "metadata": {},
     "output_type": "execute_result"
    }
   ],
   "source": [
    "df.head()"
   ]
  },
  {
   "cell_type": "code",
   "execution_count": 26,
   "metadata": {},
   "outputs": [],
   "source": [
    "# defining pre-processing functions\n",
    "#tokenize\n",
    "#remove special characters (text has others, not just punc)\n",
    "#stem\n",
    "def clean_text(text):\n",
    "    stop = stopwords.words('english')\n",
    "    text = re.sub(r\"(@\\[A-Za-z0-9]+)|([^0-9A-Za-z \\t])|(\\w+:\\/\\/\\S+)|^rt|http.+?\", \"\", text)\n",
    "    text = word_tokenize(text)\n",
    "    text = [w.lower() for w in text]\n",
    "    text = [w for w in text if w.isalpha()]\n",
    "    text = \" \".join([w for w in text if w not in (stop)])\n",
    "    return text\n",
    "\n",
    "    \n",
    "\n"
   ]
  },
  {
   "cell_type": "code",
   "execution_count": 23,
   "metadata": {},
   "outputs": [],
   "source": [
    "df['Review_cleaned'] = df['Review'].apply(lambda x: clean_text(x))\n"
   ]
  },
  {
   "cell_type": "code",
   "execution_count": 25,
   "metadata": {},
   "outputs": [],
   "source": [
    "df.to_csv(os.path.join(os.getcwd(),'data','reviews_cleaned.csv'))"
   ]
  }
 ],
 "metadata": {
  "interpreter": {
   "hash": "06ec8a203daed907d44680683fa2a9c4e7938b5804e1d99db52ad8f37677ef76"
  },
  "kernelspec": {
   "display_name": "Python 3.8.12 ('tensorflowtest')",
   "language": "python",
   "name": "python3"
  },
  "language_info": {
   "codemirror_mode": {
    "name": "ipython",
    "version": 3
   },
   "file_extension": ".py",
   "mimetype": "text/x-python",
   "name": "python",
   "nbconvert_exporter": "python",
   "pygments_lexer": "ipython3",
   "version": "3.8.12"
  },
  "orig_nbformat": 4
 },
 "nbformat": 4,
 "nbformat_minor": 2
}
